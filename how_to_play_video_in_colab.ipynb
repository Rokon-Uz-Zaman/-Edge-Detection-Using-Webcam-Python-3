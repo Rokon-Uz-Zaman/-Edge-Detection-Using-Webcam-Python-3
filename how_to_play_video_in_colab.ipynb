{
  "nbformat": 4,
  "nbformat_minor": 0,
  "metadata": {
    "colab": {
      "name": "how to play video in colab.ipynb",
      "provenance": [],
      "authorship_tag": "ABX9TyNcQJ7iDFRg5jTF3VpVCrOn",
      "include_colab_link": true
    },
    "kernelspec": {
      "name": "python3",
      "display_name": "Python 3"
    },
    "language_info": {
      "name": "python"
    }
  },
  "cells": [
    {
      "cell_type": "markdown",
      "metadata": {
        "id": "view-in-github",
        "colab_type": "text"
      },
      "source": [
        "<a href=\"https://colab.research.google.com/github/Rokon-Uz-Zaman/-Edge-Detection-Using-Webcam-Python-3/blob/master/how_to_play_video_in_colab.ipynb\" target=\"_parent\"><img src=\"https://colab.research.google.com/assets/colab-badge.svg\" alt=\"Open In Colab\"/></a>"
      ]
    },
    {
      "cell_type": "code",
      "execution_count": 3,
      "metadata": {
        "id": "BZucQKWjgF04"
      },
      "outputs": [],
      "source": [
        "#upload a video in colab content folder and copy the path\n",
        "\n",
        "#maybe on mp4 file support this code\n",
        "\n",
        "video_path=\"/content/test video.mp4\"\n",
        "\n",
        "video_width = 600\n",
        "\n",
        "from IPython.display import HTML\n",
        "from base64 import b64encode\n",
        "\n",
        "video_file = open(video_path, \"r+b\").read()\n",
        "\n",
        "video_url = f\"data:video/mp4;base64,{b64encode(video_file).decode()}\"\n",
        "HTML(f\"\"\"<video width={video_width} controls><source src=\"{video_url}\"></video>\"\"\")\n"
      ]
    }
  ]
}